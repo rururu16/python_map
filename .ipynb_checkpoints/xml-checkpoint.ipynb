{
 "cells": [
  {
   "cell_type": "code",
   "execution_count": 1,
   "metadata": {},
   "outputs": [],
   "source": [
    "import xml.etree.ElementTree as et"
   ]
  },
  {
   "cell_type": "code",
   "execution_count": 31,
   "metadata": {},
   "outputs": [
    {
     "data": {
      "text/plain": [
       "'35.6949000'"
      ]
     },
     "execution_count": 31,
     "metadata": {},
     "output_type": "execute_result"
    }
   ],
   "source": [
    "tree = et.parse(\"data/map.osm\")\n",
    "root = tree.getroot()\n",
    "# 表示緯度経度取得\n",
    "maxlat = root[0].get(\"maxlat\")\n",
    "maxlon = root[0].attrib[\"maxlon\"]\n",
    "minlat = root[0].attrib[\"minlat\"]\n",
    "minlon = root[0].attrib[\"minlon\"]\n",
    "maxlat"
   ]
  },
  {
   "cell_type": "code",
   "execution_count": 26,
   "metadata": {},
   "outputs": [
    {
     "data": {
      "text/plain": [
       "'35.0084000'"
      ]
     },
     "execution_count": 26,
     "metadata": {},
     "output_type": "execute_result"
    }
   ],
   "source": []
  },
  {
   "cell_type": "code",
   "execution_count": 30,
   "metadata": {},
   "outputs": [],
   "source": [
    "# cuisine\n",
    "names = []\n",
    "lats = []\n",
    "lons = []\n",
    "for node in root.iter(\"node\"):\n",
    "    is_shop = False\n",
    "    name = None\n",
    "    for tag in node.iter(\"tag\"):\n",
    "        if tag.get(\"k\")==\"cuisine\":\n",
    "            is_shop = True\n",
    "        if tag.get(\"k\")==\"name\":\n",
    "            name = tag.get(\"v\")\n",
    "    if is_shop:\n",
    "        names.append(name)\n",
    "        lats.append(node.get(\"lat\"))\n",
    "        lons.append(node.get(\"lon\"))"
   ]
  },
  {
   "cell_type": "code",
   "execution_count": null,
   "metadata": {},
   "outputs": [],
   "source": []
  },
  {
   "cell_type": "code",
   "execution_count": null,
   "metadata": {},
   "outputs": [],
   "source": []
  }
 ],
 "metadata": {
  "kernelspec": {
   "display_name": "Python 3",
   "language": "python",
   "name": "python3"
  },
  "language_info": {
   "codemirror_mode": {
    "name": "ipython",
    "version": 3
   },
   "file_extension": ".py",
   "mimetype": "text/x-python",
   "name": "python",
   "nbconvert_exporter": "python",
   "pygments_lexer": "ipython3",
   "version": "3.6.1"
  }
 },
 "nbformat": 4,
 "nbformat_minor": 2
}
