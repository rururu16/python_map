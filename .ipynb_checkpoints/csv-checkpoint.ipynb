{
 "cells": [
  {
   "cell_type": "code",
   "execution_count": 39,
   "metadata": {},
   "outputs": [],
   "source": [
    "#!python3\n",
    "import pandas as pd\n",
    "file = \"data/gurume.csv\""
   ]
  },
  {
   "cell_type": "markdown",
   "metadata": {},
   "source": [
    "#### pd.read_csv(ファイル名, encoding)\n",
    "- data/gurume.csvを読み込む\n",
    "- encodingをWindows標準のcp932に指定する（しないと読み込みエラーになる）\n",
    "- 読み込んだ結果はデータフレームdfとして返される。\n",
    "- df[列名]で列アクセス、i行目が欲しい場合はdf.iloc[i]とする\n",
    "- df.columnsで列の一覧"
   ]
  },
  {
   "cell_type": "code",
   "execution_count": 21,
   "metadata": {},
   "outputs": [
    {
     "name": "stdout",
     "output_type": "stream",
     "text": [
      "35.6809000 35.6949000 139.6942000 139.7176000\n"
     ]
    }
   ],
   "source": [
    "# お店csv読み込み\n",
    "df = pd.read_csv(file, encoding=\"cp932\")"
   ]
  },
  {
   "cell_type": "markdown",
   "metadata": {},
   "source": [
    "#### xmlから緯度経度情報を取得する\n",
    "標準のxmlモジュールを調べてがんばる"
   ]
  },
  {
   "cell_type": "code",
   "execution_count": null,
   "metadata": {},
   "outputs": [],
   "source": [
    "# .osmから表示緯度経度取得\n",
    "import xml.etree.ElementTree as et\n",
    "tree = et.parse(\"data/map.osm\")\n",
    "root = tree.getroot()\n",
    "\n",
    "maxlat = root[0].get(\"maxlat\")\n",
    "maxlon = root[0].attrib[\"maxlon\"]\n",
    "minlat = root[0].attrib[\"minlat\"]\n",
    "minlon = root[0].attrib[\"minlon\"]\n",
    "print(minlat,maxlat, minlon, maxlon)"
   ]
  },
  {
   "cell_type": "markdown",
   "metadata": {},
   "source": [
    "#### 範囲内の緯度経度取得\n",
    "- df[\"lat\"] > minlat でbool配列が得られる\n",
    "- bool配列同士を &, | などで演算できる\n",
    "- df[bool配列] でTrueの行が取得できる"
   ]
  },
  {
   "cell_type": "code",
   "execution_count": 27,
   "metadata": {},
   "outputs": [],
   "source": [
    "# dfから範囲内の緯度経度を持つ行を取得\n",
    "shops = df[((df.lng > float(minlon)) & (df.lng < float(maxlon))) & ((df.lat > float(minlat)) & (df.lat < float(maxlat)))]\n",
    "data = shops[[\"name\", \"genre\", \"score\", \"lat\", \"lng\"]]\n",
    "data.to_csv(\"data/shops.csv\", index=False, encoding=\"cp932\")"
   ]
  },
  {
   "cell_type": "code",
   "execution_count": 40,
   "metadata": {},
   "outputs": [
    {
     "data": {
      "text/plain": [
       "0.25    3.02\n",
       "0.75    3.20\n",
       "Name: score, dtype: float64"
      ]
     },
     "execution_count": 40,
     "metadata": {},
     "output_type": "execute_result"
    }
   ],
   "source": [
    "data[\"score\"].quantile([0.25, 0.75])"
   ]
  }
 ],
 "metadata": {
  "kernelspec": {
   "display_name": "Python 3",
   "language": "python",
   "name": "python3"
  },
  "language_info": {
   "codemirror_mode": {
    "name": "ipython",
    "version": 3
   },
   "file_extension": ".py",
   "mimetype": "text/x-python",
   "name": "python",
   "nbconvert_exporter": "python",
   "pygments_lexer": "ipython3",
   "version": "3.6.1"
  }
 },
 "nbformat": 4,
 "nbformat_minor": 2
}
